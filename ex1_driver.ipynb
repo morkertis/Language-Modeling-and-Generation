{
 "cells": [
  {
   "cell_type": "code",
   "execution_count": 1,
   "metadata": {},
   "outputs": [
    {
     "name": "stdout",
     "output_type": "stream",
     "text": [
      "a cat sat on the mat . a fat cat sat on the mat . a rat sat on the mat . the rat sat on the cat . a bat spat on the rat that sat on the cat on the mat .\n"
     ]
    }
   ],
   "source": [
    "import ex1\n",
    "\n",
    "text = 'A cat sat on the mat .::: a fat cat sat on the mat .\\n A rat sat on the mat . the rat sat on the cat . a bat spat on the rat that sat on the cat on the mat .'\n",
    "norm_text = ex1.normalize_text(text)\n",
    "print(norm_text)\n",
    "\n",
    "\n",
    "\n"
   ]
  },
  {
   "cell_type": "code",
   "execution_count": 2,
   "metadata": {},
   "outputs": [
    {
     "name": "stdout",
     "output_type": "stream",
     "text": [
      "defaultdict(<class 'int'>, {'a cat sat': 1, 'cat sat on': 2, 'sat on the': 5, 'on the mat': 4, 'the mat .': 4, 'mat . a': 2, '. a fat': 1, 'a fat cat': 1, 'fat cat sat': 1, '. a rat': 1, 'a rat sat': 1, 'rat sat on': 2, 'mat . the': 1, '. the rat': 1, 'the rat sat': 1, 'on the cat': 2, 'the cat .': 1, 'cat . a': 1, '. a bat': 1, 'a bat spat': 1, 'bat spat on': 1, 'spat on the': 1, 'on the rat': 1, 'the rat that': 1, 'rat that sat': 1, 'that sat on': 1, 'the cat on': 1, 'cat on the': 1})\n"
     ]
    }
   ],
   "source": [
    "\n",
    "\n",
    "ng=ex1.Ngram_Language_Model(n=3, chars=False)\n",
    "\n",
    "ng.build_model(norm_text)\n",
    "print(ng.get_model())\n",
    "\n"
   ]
  },
  {
   "cell_type": "code",
   "execution_count": 3,
   "metadata": {},
   "outputs": [
    {
     "data": {
      "text/plain": [
       "'sat'"
      ]
     },
     "execution_count": 3,
     "metadata": {},
     "output_type": "execute_result"
    }
   ],
   "source": [
    "\n",
    "ng.next_token('a cat')\n",
    "\n"
   ]
  },
  {
   "cell_type": "code",
   "execution_count": 4,
   "metadata": {},
   "outputs": [
    {
     "name": "stdout",
     "output_type": "stream",
     "text": [
      "a cat sat on the mat . a rat sat on the rat sat on the cat on the rat sat on the mat . the rat sat\n"
     ]
    }
   ],
   "source": [
    "\n",
    "\n",
    "t = ng.generate(context = 'a cat',n=30)\n",
    "print(t)\n"
   ]
  },
  {
   "cell_type": "code",
   "execution_count": 5,
   "metadata": {},
   "outputs": [
    {
     "name": "stdout",
     "output_type": "stream",
     "text": [
      "(('the', 'rat'), 2, 8)\n",
      "0.15\n"
     ]
    }
   ],
   "source": [
    "\n",
    "'the rat sat on the cat'\n",
    "\n",
    "print(ng.get_count_ngrams('the rat'))\n",
    "print(ng.smooth('the rat'))\n"
   ]
  },
  {
   "cell_type": "code",
   "execution_count": 6,
   "metadata": {},
   "outputs": [
    {
     "name": "stdout",
     "output_type": "stream",
     "text": [
      "(('abc', 'a'), 0, 0)\n",
      "0.08333333333333333\n"
     ]
    }
   ],
   "source": [
    "\n",
    "\n",
    "print(ng.get_count_ngrams('abc a'))\n",
    "print(ng.smooth('abc a'))\n",
    "\n"
   ]
  },
  {
   "cell_type": "code",
   "execution_count": 7,
   "metadata": {},
   "outputs": [
    {
     "name": "stdout",
     "output_type": "stream",
     "text": [
      "a cat sat on the mat . a fat cat sat on the mat . a bat spat on the mat . a rat sat on the mat . -10.48836496035388\n",
      "a cat sat on the mat -4.297285406218791\n",
      "the rat sat on the cat -4.990432586778736\n"
     ]
    }
   ],
   "source": [
    "\n",
    "print('a cat sat on the mat . a fat cat sat on the mat . a bat spat on the mat . a rat sat on the mat .',ng.evaluate('a cat sat on the mat . a fat cat sat on the mat . a bat spat on the mat . a rat sat on the mat .'))\n",
    "print('a cat sat on the mat',ng.evaluate('a cat sat on the mat'))\n",
    "print('the rat sat on the cat',ng.evaluate('the rat sat on the cat'))\n",
    "\n"
   ]
  },
  {
   "cell_type": "code",
   "execution_count": 8,
   "metadata": {},
   "outputs": [
    {
     "name": "stdout",
     "output_type": "stream",
     "text": [
      "the fat sing song -9.623773649733524\n"
     ]
    }
   ],
   "source": [
    "\n",
    "\n",
    "print('the fat sing song',ng.evaluate('the fat sing song'))\n",
    "\n"
   ]
  },
  {
   "cell_type": "code",
   "execution_count": 9,
   "metadata": {},
   "outputs": [
    {
     "name": "stdout",
     "output_type": "stream",
     "text": [
      "defaultdict(<class 'int'>, {'a cat sat': 1, 'cat sat on': 2, 'sat on the': 5, 'on the mat': 4, 'the mat .': 4, 'mat . a': 2, '. a fat': 1, 'a fat cat': 1, 'fat cat sat': 1, '. a rat': 1, 'a rat sat': 1, 'rat sat on': 2, 'mat . the': 1, '. the rat': 1, 'the rat sat': 1, 'on the cat': 2, 'the cat .': 1, 'cat . a': 1, '. a bat': 1, 'a bat spat': 1, 'bat spat on': 1, 'spat on the': 1, 'on the rat': 1, 'the rat that': 1, 'rat that sat': 1, 'that sat on': 1, 'the cat on': 1, 'cat on the': 1})\n"
     ]
    }
   ],
   "source": [
    "\n",
    "lm = ex1.Ngram_Language_Model(n=3, chars=False)\n",
    "lm.build_model(norm_text)  #*\n",
    "print(lm.get_model()) #*\n"
   ]
  },
  {
   "cell_type": "code",
   "execution_count": 10,
   "metadata": {},
   "outputs": [
    {
     "name": "stdout",
     "output_type": "stream",
     "text": [
      "a cat sat on the mat . a bat spat on the mat . a rat sat on the cat . a rat sat on the mat .\n"
     ]
    }
   ],
   "source": [
    "\n",
    "t = lm.generate(context = 'a cat',n=30)\n",
    "print(t)\n"
   ]
  },
  {
   "cell_type": "code",
   "execution_count": 11,
   "metadata": {},
   "outputs": [],
   "source": [
    "\n",
    "\n",
    "t='a cat sat on the mat . a fat cat sat on the mat . a bat spat on the mat . a rat sat on the mat .'\n"
   ]
  },
  {
   "cell_type": "code",
   "execution_count": 12,
   "metadata": {},
   "outputs": [
    {
     "name": "stdout",
     "output_type": "stream",
     "text": [
      "a cat sat on the mat . a fat cat sat on the mat . a bat spat on the mat . a rat sat on the mat . | -10.488\n",
      "a cat sat on the mat | -4.297\n",
      "the rat sat on the cat | -4.990\n"
     ]
    }
   ],
   "source": [
    "\n",
    "for e in [t, 'a cat sat on the mat','the rat sat on the cat' ]: #*\n",
    "    print('%s | %.3f' %(e, lm.evaluate(e)))\n",
    "\n"
   ]
  },
  {
   "cell_type": "code",
   "execution_count": 13,
   "metadata": {},
   "outputs": [],
   "source": [
    "\n",
    "# =============================================================================\n",
    "# big text data\n",
    "# =============================================================================\n",
    "import requests\n",
    "url='http://www.norvig.com/big.txt'\n",
    "\n",
    "text = requests.get(url).text\n",
    "\n"
   ]
  },
  {
   "cell_type": "code",
   "execution_count": 14,
   "metadata": {},
   "outputs": [
    {
     "name": "stderr",
     "output_type": "stream",
     "text": [
      "IOPub data rate exceeded.\n",
      "The notebook server will temporarily stop sending output\n",
      "to the client in order to avoid crashing it.\n",
      "To change this limit, set the config variable\n",
      "`--NotebookApp.iopub_data_rate_limit`.\n",
      "\n",
      "Current values:\n",
      "NotebookApp.iopub_data_rate_limit=1000000.0 (bytes/sec)\n",
      "NotebookApp.rate_limit_window=3.0 (secs)\n",
      "\n"
     ]
    }
   ],
   "source": [
    "\n",
    "text = ex1.normalize_text(text) #lower casing, padding punctuation with white spaces\n",
    "print(text)\n",
    "\n"
   ]
  },
  {
   "cell_type": "code",
   "execution_count": 15,
   "metadata": {},
   "outputs": [
    {
     "name": "stderr",
     "output_type": "stream",
     "text": [
      "IOPub data rate exceeded.\n",
      "The notebook server will temporarily stop sending output\n",
      "to the client in order to avoid crashing it.\n",
      "To change this limit, set the config variable\n",
      "`--NotebookApp.iopub_data_rate_limit`.\n",
      "\n",
      "Current values:\n",
      "NotebookApp.iopub_data_rate_limit=1000000.0 (bytes/sec)\n",
      "NotebookApp.rate_limit_window=3.0 (secs)\n",
      "\n"
     ]
    }
   ],
   "source": [
    "\n",
    "\n",
    "lm = ex1.Ngram_Language_Model(n=3, chars=False)\n",
    "lm.build_model(text)  #*\n",
    "print(lm.get_model()) #*\n",
    "\n"
   ]
  },
  {
   "cell_type": "code",
   "execution_count": 16,
   "metadata": {},
   "outputs": [
    {
     "name": "stdout",
     "output_type": "stream",
     "text": [
      "freedom and inevitability gradually\n",
      "diminishes or increases according to its former submarine policy president wilson in white went up to the virgin s field . fine very fine thoroughbred\n"
     ]
    }
   ],
   "source": [
    "\n",
    "t = lm.generate(context = 'freedom and',n=30)\n",
    "print(t)\n",
    "\n"
   ]
  },
  {
   "cell_type": "code",
   "execution_count": 17,
   "metadata": {},
   "outputs": [
    {
     "data": {
      "text/plain": [
       "-48.69594491500023"
      ]
     },
     "execution_count": 17,
     "metadata": {},
     "output_type": "execute_result"
    }
   ],
   "source": [
    "\n",
    "\n",
    "lm.evaluate(t)"
   ]
  }
 ],
 "metadata": {
  "kernelspec": {
   "display_name": "Python 3",
   "language": "python",
   "name": "python3"
  },
  "language_info": {
   "codemirror_mode": {
    "name": "ipython",
    "version": 3
   },
   "file_extension": ".py",
   "mimetype": "text/x-python",
   "name": "python",
   "nbconvert_exporter": "python",
   "pygments_lexer": "ipython3",
   "version": "3.6.7"
  }
 },
 "nbformat": 4,
 "nbformat_minor": 2
}
